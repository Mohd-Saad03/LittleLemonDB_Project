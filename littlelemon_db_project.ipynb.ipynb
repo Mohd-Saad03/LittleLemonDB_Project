{
 "cells": [
  {
   "cell_type": "code",
   "execution_count": 1,
   "id": "9e7ae9ae-3c06-4a35-bed5-235b76467d72",
   "metadata": {},
   "outputs": [
    {
     "name": "stdout",
     "output_type": "stream",
     "text": [
      "Requirement already satisfied: mysql-connector-python in c:\\users\\pc\\appdata\\local\\programs\\python\\python313\\lib\\site-packages (9.4.0)\n"
     ]
    }
   ],
   "source": [
    "!pip install mysql-connector-python"
   ]
  },
  {
   "cell_type": "code",
   "execution_count": 5,
   "id": "48725568-e9a9-48bc-b278-1f3d25d58f01",
   "metadata": {},
   "outputs": [],
   "source": [
    "import mysql.connector as connector\n",
    "from mysql.connector import Error "
   ]
  },
  {
   "cell_type": "code",
   "execution_count": 19,
   "id": "78304687-4225-47d4-b379-c83f82cac849",
   "metadata": {},
   "outputs": [
    {
     "name": "stdout",
     "output_type": "stream",
     "text": [
      "connection has been made to the database\n"
     ]
    }
   ],
   "source": [
    "# Task One Create a connection connect with your database and interact with the data it holds.\n",
    "try:\n",
    "    connection = connector.connect(user = \"root\",password = \"admin\")\n",
    "    print('connection has been made to the database')\n",
    "except connector.Error:\n",
    "    print(\"user or password is incorrect\")"
   ]
  },
  {
   "cell_type": "code",
   "execution_count": 18,
   "id": "1c6e7525-d92f-4d70-8e65-0dac655cee20",
   "metadata": {},
   "outputs": [
    {
     "name": "stdout",
     "output_type": "stream",
     "text": [
      "Created the cursor object to execute the sql queries\n",
      "DATA BASE NAMES\n",
      "[('gdb023',), ('gdb041',), ('gdb056',), ('global_superstore_db',), ('information_schema',), ('littlelemondb',), ('mangata_galo',), ('mangata_jw_db',), ('mg_schema',), ('moviesdb',), ('mysql',), ('performance_schema',), ('random_tables',), ('sakila',), ('si_db',), ('sys',), ('world',)]\n"
     ]
    }
   ],
   "source": [
    "# Task Two In this second task, you now need to query the database to show all tables within the database.\n",
    "\n",
    "cursor = connection.cursor()\n",
    "print('Created the cursor object to execute the sql queries')\n",
    "\n",
    "print(\"DATA BASE NAMES)\n",
    "\n",
    "showdb_query = \"SHOW DATABASES\"\n",
    "cursor.execute(showdb_query)\n",
    "results = cursor.fetchall()\n",
    "\n",
    "print(results)"
   ]
  },
  {
   "cell_type": "code",
   "execution_count": 10,
   "id": "f1555e20-556b-47ca-a608-c38a699ffbaa",
   "metadata": {},
   "outputs": [
    {
     "name": "stdout",
     "output_type": "stream",
     "text": [
      "littlelemondb in use\n"
     ]
    }
   ],
   "source": [
    "# using littlelemondb database\n",
    "cursor.execute(\"use littlelemondb\")\n",
    "print(\"littlelemondb in use\")\n",
    "\n"
   ]
  },
  {
   "cell_type": "code",
   "execution_count": 12,
   "id": "93948e72-0e20-4530-acd6-ebebb86fb7cb",
   "metadata": {},
   "outputs": [
    {
     "name": "stdout",
     "output_type": "stream",
     "text": [
      "('bookings',)\n",
      "('category',)\n",
      "('customers',)\n",
      "('diningtable',)\n",
      "('menuitems',)\n",
      "('orderdeliverystatus',)\n",
      "('orderitem',)\n",
      "('orders',)\n",
      "('ordersview',)\n",
      "('staff',)\n"
     ]
    }
   ],
   "source": [
    "# showing all the tables in the selected db littlelemondb\n",
    "\n",
    "show_tables_query = \"SHOW tables\" \n",
    "cursor.execute(show_tables_query)\n",
    "results = cursor.fetchall()\n",
    "for i in results:\n",
    "    print(i)"
   ]
  },
  {
   "cell_type": "code",
   "execution_count": 15,
   "id": "29f4c208-fd6d-448e-b072-c0111be37059",
   "metadata": {},
   "outputs": [
    {
     "name": "stdout",
     "output_type": "stream",
     "text": [
      "('Full Name', 'email', 'phone_number', 'total_amount')\n",
      "('Marcos Romero', 'marcos@example.com', '+1-555-0102', Decimal('1100.00'))\n",
      "('Aisha Khan', 'aisha@example.com', '+1-555-0103', Decimal('1200.00'))\n",
      "('Rahul Verma', 'rahul@example.com', '+1-555-0104', Decimal('1300.00'))\n",
      "('Priya Patel', 'priya@example.com', '+1-555-0105', Decimal('1300.00'))\n",
      "('John Smith', 'john.smith@example.com', '+1-555-0106', Decimal('1250.00'))\n",
      "('Sara Ali', 'sara.ali@example.com', '+1-555-0107', Decimal('1650.00'))\n",
      "('Aman Gupta', 'aman.g@example.com', '+1-555-0108', Decimal('2350.00'))\n",
      "('Neha Sharma', 'neha.sharma@example.com', '+1-555-0109', Decimal('1450.00'))\n",
      "('Omar Hassan', 'omar.hassan@example.com', '+1-555-0110', Decimal('1500.00'))\n",
      "('Emily Davis', 'emily.davis@example.com', '+1-555-0111', Decimal('1200.00'))\n",
      "('Daniel White', 'daniel.white@example.com', '+1-555-0112', Decimal('1550.00'))\n",
      "('Lina Costa', 'lina.costa@example.com', '+1-555-0113', Decimal('1600.00'))\n",
      "('Kevin Brown', 'kevin.brown@example.com', '+1-555-0114', Decimal('2050.00'))\n",
      "('Nora Lopez', 'nora.lopez@example.com', '+1-555-0115', Decimal('1500.00'))\n",
      "('Mina Park', 'mina.park@example.com', '+1-555-0116', Decimal('1350.00'))\n",
      "('Tom Green', 'tom.green@example.com', '+1-555-0117', Decimal('1800.00'))\n",
      "('Ahmed Said', 'ahmed.said@example.com', '+1-555-0118', Decimal('2000.00'))\n",
      "('Ivy Lee', 'ivy.lee@example.com', '+1-555-0119', Decimal('2500.00'))\n"
     ]
    }
   ],
   "source": [
    "\"\"\" Task 3\n",
    "For the third and final task, Little Lemon need you to return specific details from your database. They require the\n",
    "full name and contact details for every customer that has placed an order greater than $1050 for a promotional campaign.\n",
    "\"\"\"\n",
    "\n",
    "query_join = \"\"\" SELECT \n",
    "    CONCAT(c.first_name,\" \",c.last_name) as 'Full Name',\n",
    "    c.email,\n",
    "    c.phone_number,\n",
    "    o.total_amount\n",
    "FROM Customers c\n",
    "INNER JOIN Orders o\n",
    "    ON c.Customer_ID = o.Customer_ID\n",
    "WHERE o.total_amount > 1050;\n",
    "\"\"\"\n",
    "cursor.execute(query_join)\n",
    "results = cursor.fetchall()\n",
    "column = cursor.column_names\n",
    "print(column)\n",
    "for i in results:\n",
    "    print(i)"
   ]
  },
  {
   "cell_type": "code",
   "execution_count": null,
   "id": "70b4e319-e60d-477f-b514-c4ba3431a429",
   "metadata": {},
   "outputs": [],
   "source": []
  }
 ],
 "metadata": {
  "kernelspec": {
   "display_name": "Python 3 (ipykernel)",
   "language": "python",
   "name": "python3"
  },
  "language_info": {
   "codemirror_mode": {
    "name": "ipython",
    "version": 3
   },
   "file_extension": ".py",
   "mimetype": "text/x-python",
   "name": "python",
   "nbconvert_exporter": "python",
   "pygments_lexer": "ipython3",
   "version": "3.13.5"
  }
 },
 "nbformat": 4,
 "nbformat_minor": 5
}
